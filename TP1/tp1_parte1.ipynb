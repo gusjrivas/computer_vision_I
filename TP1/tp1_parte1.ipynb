{
 "cells": [
  {
   "cell_type": "code",
   "execution_count": 1,
   "metadata": {},
   "outputs": [],
   "source": [
    "import cv2\n",
    "import numpy as np\n",
    "import matplotlib.pyplot as plt"
   ]
  },
  {
   "cell_type": "markdown",
   "metadata": {},
   "source": [
    "# Ejercicio 1\n",
    "Parte 1 (imágenes en /white_patchy /coord_cromaticas)\n",
    "1) Implementar el algoritmo de pasaje a coordenadas cromáticas para librarnos de las variaciones de contraste"
   ]
  },
  {
   "cell_type": "code",
   "execution_count": 2,
   "metadata": {},
   "outputs": [],
   "source": [
    "# Cargar las imágenes cromáticas\n",
    "imagen_original_1 = cv2.imread('coord_cromaticas/CoordCrom_1.png')\n",
    "imagen_original_1 = cv2.cvtColor(imagen_original_1, cv2.COLOR_BGR2RGB)\n",
    "imagen_original_2 = cv2.imread('coord_cromaticas/CoordCrom_2.png')\n",
    "imagen_original_2 = cv2.cvtColor(imagen_original_2, cv2.COLOR_BGR2RGB)\n",
    "imagen_original_3 = cv2.imread('coord_cromaticas/CoordCrom_3.png')\n",
    "imagen_original_3 = cv2.cvtColor(imagen_original_3, cv2.COLOR_BGR2RGB)\n",
    "\n"
   ]
  }
 ],
 "metadata": {
  "kernelspec": {
   "display_name": "Python 3",
   "language": "python",
   "name": "python3"
  },
  "language_info": {
   "codemirror_mode": {
    "name": "ipython",
    "version": 3
   },
   "file_extension": ".py",
   "mimetype": "text/x-python",
   "name": "python",
   "nbconvert_exporter": "python",
   "pygments_lexer": "ipython3",
   "version": "3.11.5"
  }
 },
 "nbformat": 4,
 "nbformat_minor": 2
}
